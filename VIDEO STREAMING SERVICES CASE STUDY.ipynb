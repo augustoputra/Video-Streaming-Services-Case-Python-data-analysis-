{
 "cells": [
  {
   "cell_type": "code",
   "execution_count": 1,
   "id": "8c2a78a5-d88a-4872-8403-6817afaf9114",
   "metadata": {},
   "outputs": [],
   "source": [
    "\n",
    "from datetime import datetime\n",
    "from dateutil.relativedelta import relativedelta\n",
    "\n",
    "#example of data source of existing usernames:\n",
    "data = {\n",
    "    \"Shandy\": [\"Basic Plan\", (datetime.now() - datetime(2021, 8, 2)).days//30, \"shandy-2134\"],\n",
    "    \"Cahya\": [\"Standard Plan\", (datetime.now() - datetime(2023, 8, 2)).days//30, \"cahya-abcd\"],\n",
    "    \"Ana\": [\"Premium Plan\", (datetime.now() - datetime(2023, 7, 2)).days//30, \"ana-2f9g\"],\n",
    "    \"Bagus\": [\"Basic Plan\", (datetime.now() - datetime(2022, 5, 2)).days//30, \"bagus-9f92\"]\n",
    "}"
   ]
  },
  {
   "cell_type": "code",
   "execution_count": 48,
   "id": "b5ce3f0d-bce6-4b6e-9fbd-a0b6bed4bd77",
   "metadata": {},
   "outputs": [
    {
     "name": "stdout",
     "output_type": "stream",
     "text": [
      "Requirement already satisfied: tabulate in c:\\users\\mk.augusto.putra\\appdata\\local\\anaconda3\\lib\\site-packages (0.9.0)\n"
     ]
    }
   ],
   "source": [
    "\n",
    "!pip install tabulate\n",
    "from tabulate import tabulate\n",
    "\n",
    "class User():\n",
    "    def __init__(self, username):\n",
    "        username = input(\"Enter Username : \")\n",
    "        self.username = username\n",
    "\n",
    "    #METHOD TO CHECK ALL BENEFITS FROM ALL OF THE SUBSCRIPTION PLAN\n",
    "    def check_benefit(self):\n",
    "        #init header\n",
    "        headers = [\"Basic Plan\", \"Standard Plan\", \"Premium Plan\", \"Benefits\"]\n",
    "\n",
    "        table   = [[True, True, True, \"Can Stream\"],\n",
    "                   [True, True, True, \"Can Download\"],\n",
    "                   [True, True, True, \"Has SD\"],\n",
    "                   [False, True, True, \"Has HD\"],\n",
    "                   [False, False, True, \"Has UHD\"],\n",
    "                   [1, 2, 4, \"Number of Device\"],\n",
    "                   [\"3rd party movie only\", \"Basic Plan Content + Sports (F1, Football, Basketball)\", \"Basic Plan + Standard Plan + PacFlix Original Series or Movie\", \"content\"],\n",
    "                   [120_000, 160_000, 200_000, \"Price\"]]\n",
    "        print(\"===  PLAN LIST ===\")\n",
    "        print(\"\")\n",
    "        print(tabulate(table, headers, tablefmt = 'github'))\n",
    "\n",
    "    def check_plan(self, data):\n",
    "        self.data = data\n",
    "        list_key = [key for (key, value) in self.data.items()]\n",
    "\n",
    "        if self.username in list_key:\n",
    "                print(f\"tier subs {self.data[self.username][0]}\")\n",
    "                print(f\"duration {self.data[self.username][1]} month(s)\")\n",
    "                if self.data[self.username][0].lower().replace(\" \", \"\") == \"basicplan\":\n",
    "                   headers = [\"Basic Plan\",  \"Benefits\"]\n",
    "\n",
    "                   table   = [[True, \"Can Stream\"],\n",
    "                               [True, \"Can Download\"],\n",
    "                               [True, \"Has SD\"],\n",
    "                               [False, \"Has HD\"],\n",
    "                               [False, \"Has UHD\"],\n",
    "                               [1, \"Number of Device\"],\n",
    "                               [\"3rd party movie only\", \"content\"],\n",
    "                               [120_000, \"Price\"]]\n",
    "\n",
    "                elif self.data[self.username][0].lower().replace(\" \", \"\") == \"standardplan\":\n",
    "                   headers = [\"Standard Plan\",  \"Benefits\"]\n",
    "\n",
    "                   table   = [[True, \"Can Stream\"],\n",
    "                               [True, \"Can Download\"],\n",
    "                               [True, \"Has SD\"],\n",
    "                               [True, \"Has HD\"],\n",
    "                               [False, \"Has UHD\"],\n",
    "                               [2, \"Number of Device\"],\n",
    "                               [\"Basic Plan Content + Sports (F1, Football, Basketball)\", \"content\"],\n",
    "                               [160_000, \"Price\"]]\n",
    "\n",
    "                elif self.data[self.username][0].lower().replace(\" \", \"\") == \"premiumplan\":\n",
    "                   headers = [\"Premium Plan\",  \"Benefits\"]\n",
    "\n",
    "                   table   = [[True, \"Can Stream\"],\n",
    "                               [True, \"Can Download\"],\n",
    "                               [True, \"Has SD\"],\n",
    "                               [True, \"Has HD\"],\n",
    "                               [True, \"Has UHD\"],\n",
    "                               [4, \"Number of Device\"],\n",
    "                               [\"Basic Plan + Standard Plan + PacFlix Original Series or Movie\", \"content\"],\n",
    "                               [200_000, \"Price\"]]\n",
    "                print(tabulate(table, headers, tablefmt = 'github'))\n",
    "        else:\n",
    "            print(\"Username Not Found on Database\")\n",
    "            \n",
    "    #METHOD TO UPGRADE A PLAN FOR AN EXISTING USERNAME IN THE DATA\n",
    "    def upgrade_plan(self, new_plan):\n",
    "        new_plan = str(input(\"Enter Only Higher Plan Subscription to Upgrade : (ex if currently You're on a standard Plan, you can only upgrade to Premium Plan): \"))\n",
    "        self.new_plan = new_plan\n",
    "\n",
    "        for key, value in data.items():\n",
    "            if key == self.username:\n",
    "                if value[0].lower().replace(\" \", \"\") == self.new_plan.lower().replace(\" \", \"\"):\n",
    "                    print(\"You're currently in this subscription Plan\")\n",
    "\n",
    "                elif value[0].lower().replace(\" \", \"\") == \"basicplan\":\n",
    "                    available_upgrade = [\"standardplan\", \"premiumplan\"]\n",
    "                    if self.new_plan.lower().replace(\" \", \"\") in available_upgrade:\n",
    "                        value[0] = self.new_plan\n",
    "                        if self.new_plan.lower().replace(\" \", \"\") == \"standardplan\" and value[1] <=  12:\n",
    "                            print(f\"Plan Lama : Basic Plan | Current new plan : {value[0]} dengan harga subscription {160_000}\")\n",
    "\n",
    "                        elif self.new_plan.lower().replace(\" \", \"\") == \"standardplan\" and value[1] >  12:\n",
    "                            print(f\"Plan Lama : Basic Plan | Current new plan : {value[0]} dengan harga subscription setelah diskon upgrade {160_000*(1-0.05)}\")\n",
    "\n",
    "\n",
    "                        elif self.new_plan.lower().replace(\" \", \"\") == \"premiumplan\" and value[1] <=  12:\n",
    "                            print(f\"Plan Lama : Basic Plan | Current new plan : {value[0]} dengan harga subscription {200_000}\")\n",
    "\n",
    "                        elif self.new_plan.lower().replace(\" \", \"\") == \"premiumplan\" and value[1] >  12:\n",
    "                            print(f\"Plan Lama : Basic Plan | Current new plan : {value[0]} dengan harga subscription setelah diskon upgrade {200_000*(1-0.05)}\")\n",
    "\n",
    "                        start_date = datetime.now()\n",
    "                        value[1] =   ((datetime.now() - start_date).days)//30\n",
    "\n",
    "                  \n",
    "                    else:\n",
    "                        print(\"Unknown Subs Plan\")\n",
    "\n",
    "\n",
    "                elif value[0].lower().replace(\" \", \"\") == \"standardplan\":\n",
    "                    available_upgrade = [\"premiumplan\"]\n",
    "                    if self.new_plan.lower().replace(\" \", \"\") in available_upgrade:\n",
    "                        value[0] = self.new_plan\n",
    "\n",
    "                        if self.new_plan.lower().replace(\" \", \"\") == \"premiumplan\" and value[1] <=  12:\n",
    "                            print(f\"Plan Lama : Standard Plan | Current new plan : {value[0]} dengan harga subscription {200_000}\")\n",
    "\n",
    "                        elif self.new_plan.lower().replace(\" \", \"\") == \"premiumplan\" and value[1] >  12:\n",
    "                            print(f\"Plan Lama : Standard Plan | Current new plan : {value[0]} dengan harga subscription setelah diskon upgrade {200_000*(1-0.05)}\")\n",
    "\n",
    "\n",
    "                        start_date = datetime.now()\n",
    "                        value[1] =  ((datetime.now() - start_date).days)//30\n",
    "\n",
    "                    else:\n",
    "                        print(\"Unknown Subs Plan\")\n",
    "\n",
    "\n",
    "                elif value[0].lower().replace(\" \", \"\") == \"premiumplan\":\n",
    "                    if self.new_plan.lower().replace(\" \", \"\") ==\"basicplan\":\n",
    "                        print(\"You can't upgrade into lower\")\n",
    "                    elif self.new_plan.lower().replace(\" \", \"\") ==\"standardplan\":\n",
    "                        print(\"You can't upgrade into lower\")\n",
    "                    else:\n",
    "                      print(\"Unknown Subs Plan\")\n",
    "\n",
    "                    start_date = datetime.now()\n",
    "                    value[1] =  ((datetime.now() - start_date).days)//30\n",
    "                    \n",
    "#CLASS TO INPUT A NEW USER\n",
    "class NewUser():\n",
    "        def __init__(self, newusername):\n",
    "            newusername = str(input(\"Please Enter New Username : \"))\n",
    "            self.newusername = newusername\n",
    "\n",
    "            if self.newusername not in [key for (key, value) in data.items()]:\n",
    "                print(f\"Welcome New User {self.newusername}\")\n",
    "            else:\n",
    "                print(f\"Username {self.newusername} has already existed, please find other username\")\n",
    "\n",
    "        #METHOD FOR A NEW USER TO HAVE A PLAN OF SUBSCRIPTION\n",
    "        def pick_plan(self, new_plan, referral_code):    \n",
    "            new_plan = str(input(\"Please Enter the subscription Plan : \"))\n",
    "            self.new_plan = new_plan\n",
    "            referral_code = str(input(\"Please Enter the Referral Code : \"))\n",
    "            self.referral_code =  referral_code\n",
    "            if self.new_plan.lower().replace(\" \", \"\") != \"basicplan\" and self.new_plan.lower().replace(\" \", \"\") != \"standardplan\" and self.new_plan.lower().replace(\" \", \"\") != \"premiumplan\":\n",
    "                print(\"Plan Not Recognized, please Recheck\")\n",
    "\n",
    "            else:\n",
    "                list_refcode = []\n",
    "                for key, value in data.items():\n",
    "                    list_refcode.append(value[2])\n",
    "\n",
    "                if self.referral_code in  list_refcode:\n",
    "                    if self.new_plan.lower().replace(\" \", \"\") == \"basicplan\":\n",
    "                        print(f\"{self.newusername} {self.new_plan} ,Price : {120_000*(1-0.04)}\")\n",
    "                    elif self.new_plan.lower().replace(\" \", \"\") == \"standardplan\":\n",
    "                        print(f\"{self.newusername} {self.new_plan} ,Price : {160_000*(1-0.04)}\")\n",
    "                    elif self.new_plan.lower().replace(\" \", \"\") == \"premiumplan\":\n",
    "                        print(f\"{self.newusername} {self.new_plan} ,Price : {200_000*(1-0.04)}\")\n",
    "\n",
    "                    for key, value in data.items():\n",
    "                        if self.referral_code == value[2]:\n",
    "                            value[2] = 0\n",
    "\n",
    "\n",
    "                else:\n",
    "                    if self.new_plan.lower().replace(\" \", \"\") == \"basicplan\":\n",
    "                        print(\"Referral Code Not Found\")\n",
    "                        print(f\"{self.newusername} {self.new_plan} ,Price : {120_000}\")\n",
    "                    elif self.new_plan.lower().replace(\" \", \"\") == \"standardplan\":\n",
    "                        print(\"Referral Code Not Found\")\n",
    "                        print(f\"{self.newusername} {self.new_plan} ,Price : {160_000}\")\n",
    "                    elif self.new_plan.lower().replace(\" \", \"\") == \"premiumplan\":\n",
    "                        print(\"Referral Code Not Found\")\n",
    "                        print(f\"{self.newusername} {self.new_plan} ,Price : {200_000}\")\n",
    "                import random\n",
    "                import string\n",
    "                \n",
    "                def ref_code(newusername):   #GENERATING RANDOM CODE TO CREATE A REFERRAL CODE\n",
    "                    length = 4\n",
    "                    rand_code = string.ascii_letters + string.digits\n",
    "                    char = self.newusername +  \"-\"+''.join(random.choice(rand_code) for _ in range(length))\n",
    "                    return char\n",
    "                \n",
    "                start_date = datetime.now()\n",
    "                data[self.newusername] = [self.new_plan, (datetime.now() - start_date).days//30, ref_code(self.newusername)]\n",
    "\n"
   ]
  },
  {
   "cell_type": "raw",
   "id": "80fdafa7-e415-4e54-9812-79c4b918424a",
   "metadata": {},
   "source": [
    "\\\\\\PLEASE RUN THE CODE BELOW TO ENTER AN EXISTING USERNAME"
   ]
  },
  {
   "cell_type": "code",
   "execution_count": null,
   "id": "496a0b8e-4a93-4a54-aa6f-92f45657bdc8",
   "metadata": {},
   "outputs": [],
   "source": [
    "tes1 = User(\"\")"
   ]
  },
  {
   "cell_type": "markdown",
   "id": "40ca7d37-b05d-4627-b397-33addda4e19e",
   "metadata": {},
   "source": [
    "RUN THE CODE BELOW TO CHECK WHAT KIND OF BENEFITS FROM ALL THE EXISTING PLAN"
   ]
  },
  {
   "cell_type": "code",
   "execution_count": null,
   "id": "2ce1aa42-221c-49cf-aaa7-0194d00b0559",
   "metadata": {},
   "outputs": [],
   "source": [
    "tes1.check_benefit()"
   ]
  },
  {
   "cell_type": "markdown",
   "id": "ac01934d-1adf-46c1-be5c-2b749cba10cd",
   "metadata": {},
   "source": [
    "///RUN TO CHECK THE EXISTING USERNAME HIS/HER PLAN AND BENEFITS"
   ]
  },
  {
   "cell_type": "code",
   "execution_count": null,
   "id": "125fce89-8b4d-4817-88f0-6ff577624392",
   "metadata": {},
   "outputs": [],
   "source": [
    "tes1.check_plan(data)"
   ]
  },
  {
   "cell_type": "markdown",
   "id": "30c0b942-dd6a-44bb-9f9b-1c1427e85c63",
   "metadata": {},
   "source": [
    "///RUN TO ENTER THE DESIRED UPGRADE PLAN (ENTER THE HIGHER SUBSCRIPTION PLAN ONLY)"
   ]
  },
  {
   "cell_type": "code",
   "execution_count": null,
   "id": "328ae90e-a34d-4ff3-b961-64ae3184f48a",
   "metadata": {},
   "outputs": [],
   "source": [
    "tes1.upgrade_plan(\"\")"
   ]
  },
  {
   "cell_type": "markdown",
   "id": "389d9041-a36d-4358-8e47-27a0c31c7b63",
   "metadata": {},
   "source": [
    "///RUN THE CODE BELOW TO SEE IF THE DATA HAS CHANGED"
   ]
  },
  {
   "cell_type": "code",
   "execution_count": null,
   "id": "4ede448d-a156-44d9-9774-e4b373f9b92b",
   "metadata": {},
   "outputs": [],
   "source": [
    "data"
   ]
  },
  {
   "cell_type": "markdown",
   "id": "e91ba5d7-e4b7-49b1-baa3-56681701a45c",
   "metadata": {},
   "source": []
  },
  {
   "cell_type": "markdown",
   "id": "c3c2feaa-7ec4-4da9-b0eb-696f40e1141d",
   "metadata": {},
   "source": [
    "/// PLEASE INPUT NEW USERNAME"
   ]
  },
  {
   "cell_type": "code",
   "execution_count": null,
   "id": "51cad54b-c8e1-4a8d-8d87-8667d103b4d9",
   "metadata": {},
   "outputs": [],
   "source": [
    "tes2 = NewUser(\"\")"
   ]
  },
  {
   "cell_type": "markdown",
   "id": "2f2305ea-f519-4aad-b7cc-2ee59da93d57",
   "metadata": {},
   "source": [
    "/// PLEASE RUN THE CODE BELOW AND INPUT A PLAN OF SUBSCRIPTION NEW USERNAME(EX : BASIC PLAN, STANDARD PLAN, PREMIUM PLAN)"
   ]
  },
  {
   "cell_type": "code",
   "execution_count": null,
   "id": "928bfcd8-3504-4c3c-8365-cf50c0e9f892",
   "metadata": {},
   "outputs": [],
   "source": [
    "tes2.pick_plan(\"\", \"\")"
   ]
  },
  {
   "cell_type": "markdown",
   "id": "b0e8e012-1097-4d6e-9778-9150dbd4dfc8",
   "metadata": {},
   "source": [
    "///RUN THE CODE BELOW TO SEE IF THE DATA HAS CHANGED"
   ]
  },
  {
   "cell_type": "code",
   "execution_count": null,
   "id": "a43d174c-a641-4789-8cc8-31797eacbb70",
   "metadata": {},
   "outputs": [],
   "source": [
    "data"
   ]
  },
  {
   "cell_type": "code",
   "execution_count": null,
   "id": "bd4a9e03-47de-4d3c-8e3c-9685f92fa088",
   "metadata": {},
   "outputs": [],
   "source": []
  }
 ],
 "metadata": {
  "kernelspec": {
   "display_name": "Python 3 (ipykernel)",
   "language": "python",
   "name": "python3"
  },
  "language_info": {
   "codemirror_mode": {
    "name": "ipython",
    "version": 3
   },
   "file_extension": ".py",
   "mimetype": "text/x-python",
   "name": "python",
   "nbconvert_exporter": "python",
   "pygments_lexer": "ipython3",
   "version": "3.11.7"
  }
 },
 "nbformat": 4,
 "nbformat_minor": 5
}
